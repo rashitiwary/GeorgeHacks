{
  "cells": [
    {
      "cell_type": "markdown",
      "metadata": {
        "id": "nsExbXweyPAD"
      },
      "source": [
        "# Dataset introduction\n",
        "\n",
        "The dataset chosen for this project is a celeberity dataset. Through this dataset we will be trying to generate faces and with certain attributes like smiling, young, male or female and so on.\n",
        "\n",
        "We have 4 different files as described below:\n",
        "\n",
        "1. **img_align_celeba.zip**: All the face images\n",
        "2. **list_eval_partition.csv**: Recommended partitioning of images into training, validation, testing sets. Images 1-162770 are training, 162771-182637 are validation, 182638-202599 are testing\n",
        "3. **list_bbox_celeba.csv**: Bounding box information for each image. \"x_1\" and \"y_1\" represent the upper left point coordinate of bounding box. \"width\" and \"height\" represent the width and height of bounding box\n",
        "4. **list_landmarks_align_celeba.csv**: Image landmarks and their respective coordinates. There are 5 landmarks: left eye, right eye, nose, left mouth, right mouth\n",
        "5. **list_attr_celeba.csv**: Attribute labels for each image. There are 40 attributes. \"1\" represents positive while \"-1\" represents negative"
      ]
    },
    {
      "cell_type": "code",
      "execution_count": null,
      "metadata": {
        "id": "0O9w5Wi-07ng"
      },
      "outputs": [],
      "source": [
        "from google.colab import drive\n",
        "drive.mount('/content/drive')\n",
        "\n",
        "%cd /content/drive/MyDrive/Neural_Project_Celeba/"
      ]
    },
    {
      "cell_type": "code",
      "execution_count": null,
      "metadata": {},
      "outputs": [],
      "source": [
        "pip install pandas"
      ]
    },
    {
      "cell_type": "code",
      "execution_count": null,
      "metadata": {},
      "outputs": [],
      "source": [
        "pip install opencv-python"
      ]
    },
    {
      "cell_type": "code",
      "execution_count": null,
      "metadata": {},
      "outputs": [],
      "source": [
        "pip install tensorflow"
      ]
    },
    {
      "cell_type": "markdown",
      "metadata": {
        "id": "JJ0df5QG5dqs"
      },
      "source": [
        "this is configured to extract data located in my drive, if you're working on the notebook, uncomment the code rashi wrote below. - rutvik\n",
        "              "
      ]
    },
    {
      "cell_type": "code",
      "execution_count": null,
      "metadata": {
        "colab": {
          "background_save": true,
          "base_uri": "https://localhost:8080/"
        },
        "id": "b1c0DrT74MJA",
        "outputId": "484e9fb8-5f45-47cb-891d-58dd90e646f1"
      },
      "outputs": [],
      "source": [
        "%cd /content/drive/MyDrive/Neural_Project_Celeba/\n",
        "\n",
        "!unzip img_align_celeba.zip"
      ]
    },
    {
      "cell_type": "code",
      "execution_count": 1,
      "metadata": {
        "id": "mr2HkoI9iL1i"
      },
      "outputs": [],
      "source": [
        "#Importing zipfile for unzipping the dataset file\n",
        "import zipfile\n",
        "import pandas as pd\n",
        "import numpy as np\n",
        "import matplotlib.pyplot as plt\n",
        "import random\n",
        "import cv2\n",
        "import os\n",
        "import tensorflow as tf\n",
        "\n",
        "from tensorflow import keras\n",
        "from tensorflow.keras import layers\n",
        "from keras.preprocessing.image import load_img\n",
        "from PIL import Image\n",
        "# from google.colab import drive\n",
        "from keras.layers import Input, Conv2D, Flatten, Dense\n",
        "from keras.models import Model\n",
        "from tensorflow.keras.layers import Dropout, Lambda, Reshape, Conv2DTranspose\n",
        "from tensorflow.keras import backend as K\n",
        "from tensorflow.keras.losses import binary_crossentropy\n",
        "# from tensorflow.python.framework.ops import disable_eager_execution\n",
        "# disable_eager_execution()"
      ]
    },
    {
      "cell_type": "code",
      "execution_count": null,
      "metadata": {
        "colab": {
          "base_uri": "https://localhost:8080/"
        },
        "id": "PCk0uJ1M6X9h",
        "outputId": "3ef49c34-b8d7-46f4-b352-7a9bf7d841b5"
      },
      "outputs": [],
      "source": [
        "# Mounting Google Drive\n",
        "drive.mount('/content/drive',force_remount=True)\n",
        "\n",
        "# drive.flush_and_unmount()"
      ]
    },
    {
      "cell_type": "code",
      "execution_count": null,
      "metadata": {
        "colab": {
          "base_uri": "https://localhost:8080/"
        },
        "id": "Sy1I-vvM64_r",
        "outputId": "19224b53-286b-45bc-ad6f-b13951d2905c"
      },
      "outputs": [],
      "source": [
        "# Navigating to the directory containing the zip file\n",
        "%cd /content/drive/MyDrive/Neural_Project_Celeba/\n",
        "\n",
        "# Unzipping the file\n",
        "!unzip img_align_celeba.zip"
      ]
    },
    {
      "cell_type": "markdown",
      "metadata": {},
      "source": [
        "The below code is for the file where the attributes of each of the image is given and the corresponding values, where 1 indicates a Yes and -1 ondicates a No."
      ]
    },
    {
      "cell_type": "code",
      "execution_count": 2,
      "metadata": {
        "colab": {
          "base_uri": "https://localhost:8080/"
        },
        "id": "bmGIIKM9x1IM",
        "outputId": "ad3eef64-8243-4d61-88a8-780063349751"
      },
      "outputs": [
        {
          "data": {
            "text/plain": [
              "(202599, 40)"
            ]
          },
          "execution_count": 2,
          "metadata": {},
          "output_type": "execute_result"
        }
      ],
      "source": [
        "# df_list_attr = pd.read_csv('list_attr_celeba.csv')  ----------> Commented by Rashi, uncomment this if using colab\n",
        "df_list_attr = pd.read_csv('/Users/rashitiwary/Documents/George Washington University/Masters Subject/CSCI  6366 Neural network/Semester Project/Dataset/list_attr_celeba.csv')\n",
        "# df_list_attr = pd.read_csv('list_attr_celeba.csv')\n",
        "df_list_attr.set_index('image_id', inplace=True)\n",
        "df_list_attr.replace(to_replace=-1, value=0, inplace=True)  # replacing all the attributes of -1 by 0\n",
        "df_list_attr.shape"
      ]
    },
    {
      "cell_type": "code",
      "execution_count": 3,
      "metadata": {
        "colab": {
          "base_uri": "https://localhost:8080/",
          "height": 475
        },
        "id": "K0POYbLJ52e-",
        "outputId": "0f741c5f-4389-43c0-e558-54961bfdcd45"
      },
      "outputs": [
        {
          "data": {
            "text/html": [
              "<div>\n",
              "<style scoped>\n",
              "    .dataframe tbody tr th:only-of-type {\n",
              "        vertical-align: middle;\n",
              "    }\n",
              "\n",
              "    .dataframe tbody tr th {\n",
              "        vertical-align: top;\n",
              "    }\n",
              "\n",
              "    .dataframe thead th {\n",
              "        text-align: right;\n",
              "    }\n",
              "</style>\n",
              "<table border=\"1\" class=\"dataframe\">\n",
              "  <thead>\n",
              "    <tr style=\"text-align: right;\">\n",
              "      <th></th>\n",
              "      <th>5_o_Clock_Shadow</th>\n",
              "      <th>Arched_Eyebrows</th>\n",
              "      <th>Attractive</th>\n",
              "      <th>Bags_Under_Eyes</th>\n",
              "      <th>Bald</th>\n",
              "      <th>Bangs</th>\n",
              "      <th>Big_Lips</th>\n",
              "      <th>Big_Nose</th>\n",
              "      <th>Black_Hair</th>\n",
              "      <th>Blond_Hair</th>\n",
              "      <th>...</th>\n",
              "      <th>Sideburns</th>\n",
              "      <th>Smiling</th>\n",
              "      <th>Straight_Hair</th>\n",
              "      <th>Wavy_Hair</th>\n",
              "      <th>Wearing_Earrings</th>\n",
              "      <th>Wearing_Hat</th>\n",
              "      <th>Wearing_Lipstick</th>\n",
              "      <th>Wearing_Necklace</th>\n",
              "      <th>Wearing_Necktie</th>\n",
              "      <th>Young</th>\n",
              "    </tr>\n",
              "    <tr>\n",
              "      <th>image_id</th>\n",
              "      <th></th>\n",
              "      <th></th>\n",
              "      <th></th>\n",
              "      <th></th>\n",
              "      <th></th>\n",
              "      <th></th>\n",
              "      <th></th>\n",
              "      <th></th>\n",
              "      <th></th>\n",
              "      <th></th>\n",
              "      <th></th>\n",
              "      <th></th>\n",
              "      <th></th>\n",
              "      <th></th>\n",
              "      <th></th>\n",
              "      <th></th>\n",
              "      <th></th>\n",
              "      <th></th>\n",
              "      <th></th>\n",
              "      <th></th>\n",
              "      <th></th>\n",
              "    </tr>\n",
              "  </thead>\n",
              "  <tbody>\n",
              "    <tr>\n",
              "      <th>000001.jpg</th>\n",
              "      <td>0</td>\n",
              "      <td>1</td>\n",
              "      <td>1</td>\n",
              "      <td>0</td>\n",
              "      <td>0</td>\n",
              "      <td>0</td>\n",
              "      <td>0</td>\n",
              "      <td>0</td>\n",
              "      <td>0</td>\n",
              "      <td>0</td>\n",
              "      <td>...</td>\n",
              "      <td>0</td>\n",
              "      <td>1</td>\n",
              "      <td>1</td>\n",
              "      <td>0</td>\n",
              "      <td>1</td>\n",
              "      <td>0</td>\n",
              "      <td>1</td>\n",
              "      <td>0</td>\n",
              "      <td>0</td>\n",
              "      <td>1</td>\n",
              "    </tr>\n",
              "    <tr>\n",
              "      <th>000002.jpg</th>\n",
              "      <td>0</td>\n",
              "      <td>0</td>\n",
              "      <td>0</td>\n",
              "      <td>1</td>\n",
              "      <td>0</td>\n",
              "      <td>0</td>\n",
              "      <td>0</td>\n",
              "      <td>1</td>\n",
              "      <td>0</td>\n",
              "      <td>0</td>\n",
              "      <td>...</td>\n",
              "      <td>0</td>\n",
              "      <td>1</td>\n",
              "      <td>0</td>\n",
              "      <td>0</td>\n",
              "      <td>0</td>\n",
              "      <td>0</td>\n",
              "      <td>0</td>\n",
              "      <td>0</td>\n",
              "      <td>0</td>\n",
              "      <td>1</td>\n",
              "    </tr>\n",
              "    <tr>\n",
              "      <th>000003.jpg</th>\n",
              "      <td>0</td>\n",
              "      <td>0</td>\n",
              "      <td>0</td>\n",
              "      <td>0</td>\n",
              "      <td>0</td>\n",
              "      <td>0</td>\n",
              "      <td>1</td>\n",
              "      <td>0</td>\n",
              "      <td>0</td>\n",
              "      <td>0</td>\n",
              "      <td>...</td>\n",
              "      <td>0</td>\n",
              "      <td>0</td>\n",
              "      <td>0</td>\n",
              "      <td>1</td>\n",
              "      <td>0</td>\n",
              "      <td>0</td>\n",
              "      <td>0</td>\n",
              "      <td>0</td>\n",
              "      <td>0</td>\n",
              "      <td>1</td>\n",
              "    </tr>\n",
              "    <tr>\n",
              "      <th>000004.jpg</th>\n",
              "      <td>0</td>\n",
              "      <td>0</td>\n",
              "      <td>1</td>\n",
              "      <td>0</td>\n",
              "      <td>0</td>\n",
              "      <td>0</td>\n",
              "      <td>0</td>\n",
              "      <td>0</td>\n",
              "      <td>0</td>\n",
              "      <td>0</td>\n",
              "      <td>...</td>\n",
              "      <td>0</td>\n",
              "      <td>0</td>\n",
              "      <td>1</td>\n",
              "      <td>0</td>\n",
              "      <td>1</td>\n",
              "      <td>0</td>\n",
              "      <td>1</td>\n",
              "      <td>1</td>\n",
              "      <td>0</td>\n",
              "      <td>1</td>\n",
              "    </tr>\n",
              "    <tr>\n",
              "      <th>000005.jpg</th>\n",
              "      <td>0</td>\n",
              "      <td>1</td>\n",
              "      <td>1</td>\n",
              "      <td>0</td>\n",
              "      <td>0</td>\n",
              "      <td>0</td>\n",
              "      <td>1</td>\n",
              "      <td>0</td>\n",
              "      <td>0</td>\n",
              "      <td>0</td>\n",
              "      <td>...</td>\n",
              "      <td>0</td>\n",
              "      <td>0</td>\n",
              "      <td>0</td>\n",
              "      <td>0</td>\n",
              "      <td>0</td>\n",
              "      <td>0</td>\n",
              "      <td>1</td>\n",
              "      <td>0</td>\n",
              "      <td>0</td>\n",
              "      <td>1</td>\n",
              "    </tr>\n",
              "    <tr>\n",
              "      <th>...</th>\n",
              "      <td>...</td>\n",
              "      <td>...</td>\n",
              "      <td>...</td>\n",
              "      <td>...</td>\n",
              "      <td>...</td>\n",
              "      <td>...</td>\n",
              "      <td>...</td>\n",
              "      <td>...</td>\n",
              "      <td>...</td>\n",
              "      <td>...</td>\n",
              "      <td>...</td>\n",
              "      <td>...</td>\n",
              "      <td>...</td>\n",
              "      <td>...</td>\n",
              "      <td>...</td>\n",
              "      <td>...</td>\n",
              "      <td>...</td>\n",
              "      <td>...</td>\n",
              "      <td>...</td>\n",
              "      <td>...</td>\n",
              "      <td>...</td>\n",
              "    </tr>\n",
              "    <tr>\n",
              "      <th>202595.jpg</th>\n",
              "      <td>0</td>\n",
              "      <td>0</td>\n",
              "      <td>1</td>\n",
              "      <td>0</td>\n",
              "      <td>0</td>\n",
              "      <td>0</td>\n",
              "      <td>1</td>\n",
              "      <td>0</td>\n",
              "      <td>0</td>\n",
              "      <td>1</td>\n",
              "      <td>...</td>\n",
              "      <td>0</td>\n",
              "      <td>0</td>\n",
              "      <td>0</td>\n",
              "      <td>0</td>\n",
              "      <td>0</td>\n",
              "      <td>0</td>\n",
              "      <td>1</td>\n",
              "      <td>0</td>\n",
              "      <td>0</td>\n",
              "      <td>1</td>\n",
              "    </tr>\n",
              "    <tr>\n",
              "      <th>202596.jpg</th>\n",
              "      <td>0</td>\n",
              "      <td>0</td>\n",
              "      <td>0</td>\n",
              "      <td>0</td>\n",
              "      <td>0</td>\n",
              "      <td>1</td>\n",
              "      <td>1</td>\n",
              "      <td>0</td>\n",
              "      <td>0</td>\n",
              "      <td>1</td>\n",
              "      <td>...</td>\n",
              "      <td>0</td>\n",
              "      <td>1</td>\n",
              "      <td>1</td>\n",
              "      <td>0</td>\n",
              "      <td>0</td>\n",
              "      <td>0</td>\n",
              "      <td>0</td>\n",
              "      <td>0</td>\n",
              "      <td>0</td>\n",
              "      <td>1</td>\n",
              "    </tr>\n",
              "    <tr>\n",
              "      <th>202597.jpg</th>\n",
              "      <td>0</td>\n",
              "      <td>0</td>\n",
              "      <td>0</td>\n",
              "      <td>0</td>\n",
              "      <td>0</td>\n",
              "      <td>0</td>\n",
              "      <td>0</td>\n",
              "      <td>0</td>\n",
              "      <td>1</td>\n",
              "      <td>0</td>\n",
              "      <td>...</td>\n",
              "      <td>0</td>\n",
              "      <td>1</td>\n",
              "      <td>0</td>\n",
              "      <td>0</td>\n",
              "      <td>0</td>\n",
              "      <td>0</td>\n",
              "      <td>0</td>\n",
              "      <td>0</td>\n",
              "      <td>0</td>\n",
              "      <td>1</td>\n",
              "    </tr>\n",
              "    <tr>\n",
              "      <th>202598.jpg</th>\n",
              "      <td>0</td>\n",
              "      <td>1</td>\n",
              "      <td>1</td>\n",
              "      <td>0</td>\n",
              "      <td>0</td>\n",
              "      <td>0</td>\n",
              "      <td>1</td>\n",
              "      <td>0</td>\n",
              "      <td>1</td>\n",
              "      <td>0</td>\n",
              "      <td>...</td>\n",
              "      <td>0</td>\n",
              "      <td>1</td>\n",
              "      <td>0</td>\n",
              "      <td>1</td>\n",
              "      <td>1</td>\n",
              "      <td>0</td>\n",
              "      <td>1</td>\n",
              "      <td>0</td>\n",
              "      <td>0</td>\n",
              "      <td>1</td>\n",
              "    </tr>\n",
              "    <tr>\n",
              "      <th>202599.jpg</th>\n",
              "      <td>0</td>\n",
              "      <td>1</td>\n",
              "      <td>1</td>\n",
              "      <td>0</td>\n",
              "      <td>0</td>\n",
              "      <td>0</td>\n",
              "      <td>0</td>\n",
              "      <td>0</td>\n",
              "      <td>0</td>\n",
              "      <td>1</td>\n",
              "      <td>...</td>\n",
              "      <td>0</td>\n",
              "      <td>0</td>\n",
              "      <td>0</td>\n",
              "      <td>1</td>\n",
              "      <td>0</td>\n",
              "      <td>0</td>\n",
              "      <td>1</td>\n",
              "      <td>0</td>\n",
              "      <td>0</td>\n",
              "      <td>1</td>\n",
              "    </tr>\n",
              "  </tbody>\n",
              "</table>\n",
              "<p>202599 rows × 40 columns</p>\n",
              "</div>"
            ],
            "text/plain": [
              "            5_o_Clock_Shadow  Arched_Eyebrows  Attractive  Bags_Under_Eyes  \\\n",
              "image_id                                                                     \n",
              "000001.jpg                 0                1           1                0   \n",
              "000002.jpg                 0                0           0                1   \n",
              "000003.jpg                 0                0           0                0   \n",
              "000004.jpg                 0                0           1                0   \n",
              "000005.jpg                 0                1           1                0   \n",
              "...                      ...              ...         ...              ...   \n",
              "202595.jpg                 0                0           1                0   \n",
              "202596.jpg                 0                0           0                0   \n",
              "202597.jpg                 0                0           0                0   \n",
              "202598.jpg                 0                1           1                0   \n",
              "202599.jpg                 0                1           1                0   \n",
              "\n",
              "            Bald  Bangs  Big_Lips  Big_Nose  Black_Hair  Blond_Hair  ...  \\\n",
              "image_id                                                             ...   \n",
              "000001.jpg     0      0         0         0           0           0  ...   \n",
              "000002.jpg     0      0         0         1           0           0  ...   \n",
              "000003.jpg     0      0         1         0           0           0  ...   \n",
              "000004.jpg     0      0         0         0           0           0  ...   \n",
              "000005.jpg     0      0         1         0           0           0  ...   \n",
              "...          ...    ...       ...       ...         ...         ...  ...   \n",
              "202595.jpg     0      0         1         0           0           1  ...   \n",
              "202596.jpg     0      1         1         0           0           1  ...   \n",
              "202597.jpg     0      0         0         0           1           0  ...   \n",
              "202598.jpg     0      0         1         0           1           0  ...   \n",
              "202599.jpg     0      0         0         0           0           1  ...   \n",
              "\n",
              "            Sideburns  Smiling  Straight_Hair  Wavy_Hair  Wearing_Earrings  \\\n",
              "image_id                                                                     \n",
              "000001.jpg          0        1              1          0                 1   \n",
              "000002.jpg          0        1              0          0                 0   \n",
              "000003.jpg          0        0              0          1                 0   \n",
              "000004.jpg          0        0              1          0                 1   \n",
              "000005.jpg          0        0              0          0                 0   \n",
              "...               ...      ...            ...        ...               ...   \n",
              "202595.jpg          0        0              0          0                 0   \n",
              "202596.jpg          0        1              1          0                 0   \n",
              "202597.jpg          0        1              0          0                 0   \n",
              "202598.jpg          0        1              0          1                 1   \n",
              "202599.jpg          0        0              0          1                 0   \n",
              "\n",
              "            Wearing_Hat  Wearing_Lipstick  Wearing_Necklace  Wearing_Necktie  \\\n",
              "image_id                                                                       \n",
              "000001.jpg            0                 1                 0                0   \n",
              "000002.jpg            0                 0                 0                0   \n",
              "000003.jpg            0                 0                 0                0   \n",
              "000004.jpg            0                 1                 1                0   \n",
              "000005.jpg            0                 1                 0                0   \n",
              "...                 ...               ...               ...              ...   \n",
              "202595.jpg            0                 1                 0                0   \n",
              "202596.jpg            0                 0                 0                0   \n",
              "202597.jpg            0                 0                 0                0   \n",
              "202598.jpg            0                 1                 0                0   \n",
              "202599.jpg            0                 1                 0                0   \n",
              "\n",
              "            Young  \n",
              "image_id           \n",
              "000001.jpg      1  \n",
              "000002.jpg      1  \n",
              "000003.jpg      1  \n",
              "000004.jpg      1  \n",
              "000005.jpg      1  \n",
              "...           ...  \n",
              "202595.jpg      1  \n",
              "202596.jpg      1  \n",
              "202597.jpg      1  \n",
              "202598.jpg      1  \n",
              "202599.jpg      1  \n",
              "\n",
              "[202599 rows x 40 columns]"
            ]
          },
          "execution_count": 3,
          "metadata": {},
          "output_type": "execute_result"
        }
      ],
      "source": [
        "#Displaying different attributes of the images. In total, there are 40 attributes for each image.\n",
        "df_list_attr"
      ]
    },
    {
      "cell_type": "markdown",
      "metadata": {
        "id": "AXI8cZ9_DmMW"
      },
      "source": [
        "The image below plotted shows different details, and it appears based on whether the details have a '1', meaning 'Yes'. This makes it easier to understand and learn about the different details in the file."
      ]
    },
    {
      "cell_type": "code",
      "execution_count": 4,
      "metadata": {
        "colab": {
          "base_uri": "https://localhost:8080/",
          "height": 578
        },
        "id": "kz7XwAaM580K",
        "outputId": "6b560832-4bfe-4dc7-c521-7a5ee6b2c81a"
      },
      "outputs": [
        {
          "data": {
            "image/png": "[encoded data removed]",
            "text/plain": [
              "<Figure size 640x480 with 1 Axes>"
            ]
          },
          "metadata": {},
          "output_type": "display_data"
        }
      ],
      "source": [
        "label = ''\n",
        "img = load_img('/Users/rashitiwary/Documents/George Washington University/Masters Subject/CSCI  6366 Neural network/Semester Project/Dataset/img_align_celeba/img_align_celeba/054810.jpg')\n",
        "# img = load_img('img_align_celeba/054810.jpg')\n",
        "row_index = df_list_attr.index.get_loc('054810.jpg')\n",
        "\n",
        "for col in df_list_attr.columns:\n",
        "    if df_list_attr.loc['054810.jpg', col] == 1:\n",
        "        label += col + '\\n'\n",
        "\n",
        "plt.imshow(img)\n",
        "plt.title(label)\n",
        "plt.show()"
      ]
    },
    {
      "cell_type": "markdown",
      "metadata": {
        "id": "pM7vpB6CR9ZD"
      },
      "source": [
        "The below block of code is for myself just to check if the files are getting unzipped correctly. Ignore this block of code - Rashi"
      ]
    },
    {
      "cell_type": "code",
      "execution_count": null,
      "metadata": {
        "colab": {
          "base_uri": "https://localhost:8080/"
        },
        "id": "NRVnak3ef2nI",
        "outputId": "e890e092-fc9b-4526-c4bf-19896a6f6f65"
      },
      "outputs": [],
      "source": [
        "import os\n",
        "\n",
        "# Specify the path to your Google Drive folder\n",
        "folder_path = '/Users/rashitiwary/Documents/George Washington University/Masters Subject/CSCI  6366 Neural network/Semester Project/Dataset/img_align_celeba/img_align_celeba/'\n",
        "\n",
        "# Get a list of all files in the directory\n",
        "all_files = os.listdir(folder_path)\n",
        "\n",
        "# Filter image files (you can customize the list of valid extensions)\n",
        "image_extensions = ['.jpg', '.jpeg']\n",
        "image_files = [file for file in all_files if any(file.lower().endswith(ext) for ext in image_extensions)]\n",
        "\n",
        "# Count the number of image files\n",
        "num_image_files = len(image_files)\n",
        "\n",
        "# Print the result\n",
        "print(f\"Number of image files: {num_image_files}\")\n"
      ]
    },
    {
      "cell_type": "code",
      "execution_count": 5,
      "metadata": {
        "colab": {
          "base_uri": "https://localhost:8080/"
        },
        "id": "AkcySGD4Fik2",
        "outputId": "cf567485-74af-4fc0-89cc-c35fb122e272"
      },
      "outputs": [
        {
          "name": "stdout",
          "output_type": "stream",
          "text": [
            "Image shape: (64, 64, 3)\n"
          ]
        }
      ],
      "source": [
        "# Printing the shape of the image used in previous code cell, before resizing\n",
        "img_array = np.array(img)\n",
        "print(\"Image shape:\", img_array.shape)"
      ]
    },
    {
      "cell_type": "markdown",
      "metadata": {
        "id": "XY9EauKXsyAh"
      },
      "source": [
        "The below code is of the file list_eval_partition.csv. This file contains the partition of the data in training, validation and testing dataset."
      ]
    },
    {
      "cell_type": "code",
      "execution_count": 6,
      "metadata": {
        "colab": {
          "base_uri": "https://localhost:8080/",
          "height": 206
        },
        "id": "DwfCJMB5Zin-",
        "outputId": "2db727e4-508f-4b59-8bbf-62e6c0faa51d"
      },
      "outputs": [
        {
          "data": {
            "text/html": [
              "<div>\n",
              "<style scoped>\n",
              "    .dataframe tbody tr th:only-of-type {\n",
              "        vertical-align: middle;\n",
              "    }\n",
              "\n",
              "    .dataframe tbody tr th {\n",
              "        vertical-align: top;\n",
              "    }\n",
              "\n",
              "    .dataframe thead th {\n",
              "        text-align: right;\n",
              "    }\n",
              "</style>\n",
              "<table border=\"1\" class=\"dataframe\">\n",
              "  <thead>\n",
              "    <tr style=\"text-align: right;\">\n",
              "      <th></th>\n",
              "      <th>image_id</th>\n",
              "      <th>partition</th>\n",
              "    </tr>\n",
              "  </thead>\n",
              "  <tbody>\n",
              "    <tr>\n",
              "      <th>0</th>\n",
              "      <td>000001.jpg</td>\n",
              "      <td>0</td>\n",
              "    </tr>\n",
              "    <tr>\n",
              "      <th>1</th>\n",
              "      <td>000002.jpg</td>\n",
              "      <td>0</td>\n",
              "    </tr>\n",
              "    <tr>\n",
              "      <th>2</th>\n",
              "      <td>000003.jpg</td>\n",
              "      <td>0</td>\n",
              "    </tr>\n",
              "    <tr>\n",
              "      <th>3</th>\n",
              "      <td>000004.jpg</td>\n",
              "      <td>0</td>\n",
              "    </tr>\n",
              "    <tr>\n",
              "      <th>4</th>\n",
              "      <td>000005.jpg</td>\n",
              "      <td>0</td>\n",
              "    </tr>\n",
              "  </tbody>\n",
              "</table>\n",
              "</div>"
            ],
            "text/plain": [
              "     image_id  partition\n",
              "0  000001.jpg          0\n",
              "1  000002.jpg          0\n",
              "2  000003.jpg          0\n",
              "3  000004.jpg          0\n",
              "4  000005.jpg          0"
            ]
          },
          "execution_count": 6,
          "metadata": {},
          "output_type": "execute_result"
        }
      ],
      "source": [
        "#Overview of list_eval_partition.csv\n",
        "# df_partition_list = pd.read_csv('list_eval_partition.csv')\n",
        "df_partition_list = pd.read_csv('/Users/rashitiwary/Documents/George Washington University/Masters Subject/CSCI  6366 Neural network/Semester Project/Dataset/list_eval_partition.csv')\n",
        "df_partition_list.head()"
      ]
    },
    {
      "cell_type": "code",
      "execution_count": 7,
      "metadata": {
        "colab": {
          "base_uri": "https://localhost:8080/"
        },
        "id": "eyJSUtGsCKZF",
        "outputId": "a55e62e5-962f-4795-a15d-04f7976ae71c"
      },
      "outputs": [
        {
          "data": {
            "text/plain": [
              "partition\n",
              "0    162770\n",
              "1     19867\n",
              "2     19962\n",
              "dtype: int64"
            ]
          },
          "execution_count": 7,
          "metadata": {},
          "output_type": "execute_result"
        }
      ],
      "source": [
        "#Partition columns is defined as follows: 0 for training, 1 for validation and 2 for testing dataset\n",
        "df_partition_list.groupby('partition').size().sort_index()"
      ]
    },
    {
      "cell_type": "code",
      "execution_count": null,
      "metadata": {
        "id": "oaGwiaRyVaCX"
      },
      "outputs": [],
      "source": [
        "directory_path = '/Users/rashitiwary/Documents/George Washington University/Masters Subject/CSCI  6366 Neural network/Semester Project/Dataset/img_align_celeba/img_align_celeba/'\n",
        "# directory_path = '/content/drive/MyDrive/img_align_celeba/img_align_celeba'  ----------> Commented by Rashi, uncomment this if using colab\n",
        "image_list = os.listdir(directory_path)\n",
        "for image in image_list:\n",
        "\n",
        "    # Construct the full file path\n",
        "    image_path = os.path.join(directory_path, image)\n",
        "\n",
        "    # Open the image using Pillow\n",
        "    image = Image.open(image_path)\n",
        "\n",
        "    # Resize the image to (64, 64)\n",
        "    resized_image = image.resize((64, 64))\n",
        "\n",
        "    # Save the resized image, overwriting the original file\n",
        "    resized_image.save(image_path)"
      ]
    },
    {
      "cell_type": "code",
      "execution_count": 8,
      "metadata": {
        "colab": {
          "base_uri": "https://localhost:8080/"
        },
        "id": "J1wuwqRd6Ee3",
        "outputId": "6de7d0d6-7040-4d23-9073-8c26bdf47988"
      },
      "outputs": [
        {
          "name": "stdout",
          "output_type": "stream",
          "text": [
            "Image shape: (64, 64, 3)\n"
          ]
        }
      ],
      "source": [
        "#Reshaped the image\n",
        "# img = load_img('img_align_celeba/081169.jpg')\n",
        "img = load_img('/Users/rashitiwary/Documents/George Washington University/Masters Subject/CSCI  6366 Neural network/Semester Project/Dataset/img_align_celeba/img_align_celeba/134526.jpg')\n",
        "img_array = np.array(img)\n",
        "print(\"Image shape:\", img_array.shape)"
      ]
    },
    {
      "cell_type": "code",
      "execution_count": null,
      "metadata": {
        "id": "qdamGc8TuMU6"
      },
      "outputs": [],
      "source": [
        "#Splitting data into training, validation and testing dataset\n",
        "#df_partition_list contains the partition of test,training and validation datasets\n",
        "\n",
        "# directory_path = './img_align_celeba/'\n",
        "directory_path = '/Users/rashitiwary/Documents/George Washington University/Masters Subject/CSCI  6366 Neural network/Semester Project/Dataset/img_align_celeba/img_align_celeba/'\n",
        "training_dataset = []\n",
        "validation_dataset = []\n",
        "test_dataset = []\n",
        "\n",
        "for i in df_partition_list['image_id']:\n",
        "    file_path = directory_path + i\n",
        "    partition = df_partition_list[df_partition_list['image_id'] == i]['partition'].values[0]\n",
        "    if partition == 0:\n",
        "        im = load_img(file_path)\n",
        "        training_dataset.append(np.array(im))\n",
        "    elif partition == 1:\n",
        "        im = load_img(file_path)\n",
        "        validation_dataset.append(np.array(im))\n",
        "    elif partition == 2:\n",
        "        im = load_img(file_path)\n",
        "        test_dataset.append(np.array(im))\n",
        "\n",
        "training_data = np.asarray(training_dataset).astype('float32')\n",
        "validation_data = np.asarray(validation_dataset).astype('float32')\n",
        "test_data = np.asarray(test_dataset).astype('float32')\n",
        "\n",
        "training_data = training_data / 255.0\n",
        "validation_data = validation_data / 255.0\n",
        "test_data = test_data / 255.0"
      ]
    },
    {
      "cell_type": "code",
      "execution_count": 9,
      "metadata": {},
      "outputs": [],
      "source": [
        "import concurrent.futures\n",
        "\n",
        "directory_path = '/Users/rashitiwary/Documents/George Washington University/Masters Subject/CSCI  6366 Neural network/Semester Project/Dataset/img_align_celeba/img_align_celeba/'\n",
        "\n",
        "def load_image(file_path):\n",
        "    im = load_img(file_path)\n",
        "    return np.array(im)\n",
        "\n",
        "with concurrent.futures.ThreadPoolExecutor() as executor:\n",
        "    training_dataset = list(executor.map(load_image, [directory_path + i for i in df_partition_list[df_partition_list['partition'] == 0]['image_id']]))\n",
        "    validation_dataset = list(executor.map(load_image, [directory_path + i for i in df_partition_list[df_partition_list['partition'] == 1]['image_id']]))\n",
        "    test_dataset = list(executor.map(load_image, [directory_path + i for i in df_partition_list[df_partition_list['partition'] == 2]['image_id']]))\n",
        "\n",
        "training_data = np.asarray(training_dataset).astype('float32')\n",
        "validation_data = np.asarray(validation_dataset).astype('float32')\n",
        "test_data = np.asarray(test_dataset).astype('float32')\n"
      ]
    },
    {
      "cell_type": "code",
      "execution_count": 10,
      "metadata": {},
      "outputs": [],
      "source": [
        "training_data = training_data / 255.0\n",
        "validation_data = validation_data / 255.0\n",
        "test_data = test_data / 255.0"
      ]
    },
    {
      "cell_type": "code",
      "execution_count": 11,
      "metadata": {},
      "outputs": [
        {
          "name": "stdout",
          "output_type": "stream",
          "text": [
            "(19962, 64, 64, 3)\n"
          ]
        }
      ],
      "source": [
        "print(test_data.shape)"
      ]
    },
    {
      "cell_type": "code",
      "execution_count": 12,
      "metadata": {},
      "outputs": [
        {
          "name": "stdout",
          "output_type": "stream",
          "text": [
            "Model: \"encoder_model\"\n",
            "__________________________________________________________________________________________________\n",
            " Layer (type)                Output Shape                 Param #   Connected to                  \n",
            "==================================================================================================\n",
            " encoder_input (InputLayer)  [(None, 64, 64, 3)]          0         []                            \n",
            "                                                                                                  \n",
            " conv2d (Conv2D)             (None, 64, 64, 32)           896       ['encoder_input[0][0]']       \n",
            "                                                                                                  \n",
            " conv2d_1 (Conv2D)           (None, 64, 64, 64)           18496     ['conv2d[0][0]']              \n",
            "                                                                                                  \n",
            " flatten (Flatten)           (None, 262144)               0         ['conv2d_1[0][0]']            \n",
            "                                                                                                  \n",
            " dropout (Dropout)           (None, 262144)               0         ['flatten[0][0]']             \n",
            "                                                                                                  \n",
            " dense (Dense)               (None, 32)                   8388640   ['dropout[0][0]']             \n",
            "                                                                                                  \n",
            " dense_1 (Dense)             (None, 32)                   8388640   ['dropout[0][0]']             \n",
            "                                                                                                  \n",
            " encoder_output (Dense)      (None, 32)                   8388640   ['dropout[0][0]']             \n",
            "                                                                                                  \n",
            "==================================================================================================\n",
            "Total params: 25185312 (96.07 MB)\n",
            "Trainable params: 25185312 (96.07 MB)\n",
            "Non-trainable params: 0 (0.00 Byte)\n",
            "__________________________________________________________________________________________________\n"
          ]
        }
      ],
      "source": [
        "#Building encoder\n",
        "latent_dim = 32\n",
        "input_shape = (64,64,3)\n",
        "\n",
        "encoder_input = Input(shape=input_shape, name='encoder_input')\n",
        "x = Conv2D(32, kernel_size=3, activation='relu', padding='same')(encoder_input)\n",
        "x = Conv2D(64, kernel_size=3, activation='relu', padding='same')(x)\n",
        "# x = Conv2D(128, kernel_size=3, activation='relu', padding='same')(x)\n",
        "\n",
        "convolution_shape = keras.backend.int_shape(x)\n",
        "\n",
        "x = Flatten()(x)\n",
        "x = Dropout(0.2)(x)\n",
        "# x = Dense(64, activation='relu')(x)\n",
        "\n",
        "# Parameters for the VAE\n",
        "z_mean = Dense(latent_dim)(x)\n",
        "z_log_var = Dense(latent_dim)(x)\n",
        "\n",
        "# # Sampling layer\n",
        "# def sampling(args):\n",
        "#     z_mean, z_log_var = args\n",
        "#     batch = tf.shape(z_mean)[0]\n",
        "#     dim = tf.shape(z_mean)[1]\n",
        "#     epsilon = tf.random.normal(shape=(batch, dim))\n",
        "#     return z_mean + tf.exp(0.5 * z_log_var) * epsilon\n",
        "\n",
        "# z = Lambda(sampling, output_shape=(latent_dim,))([z_mean, z_log_var])\n",
        "\n",
        "class SamplingLayer(layers.Layer):\n",
        "    def call(self, inputs, **kwargs):\n",
        "        z_mean, z_log_var = inputs\n",
        "        batch = tf.shape(z_mean)[0]\n",
        "        dim = tf.shape(z_mean)[1]\n",
        "        epsilon = tf.random.normal(shape=(batch, dim))\n",
        "        return z_mean + tf.exp(0.5 * z_log_var) * epsilon\n",
        "\n",
        "# Usage\n",
        "z = SamplingLayer()([z_mean, z_log_var])\n",
        "\n",
        "\n",
        "# Encoder output\n",
        "encoder_output = Dense(latent_dim, activation='linear', name='encoder_output')(x)\n",
        "\n",
        "# Create the encoder model\n",
        "encoder_model = Model(encoder_input, [z_mean, z_log_var, encoder_output], name='encoder_model')\n",
        "\n",
        "encoder_model.summary()"
      ]
    },
    {
      "cell_type": "code",
      "execution_count": 13,
      "metadata": {},
      "outputs": [
        {
          "name": "stdout",
          "output_type": "stream",
          "text": [
            "(None, 64, 64, 64)\n"
          ]
        }
      ],
      "source": [
        "# convolution_shape = keras.backend.int_shape(x) \n",
        "print(convolution_shape)"
      ]
    },
    {
      "cell_type": "code",
      "execution_count": 14,
      "metadata": {
        "colab": {
          "base_uri": "https://localhost:8080/"
        },
        "id": "dRknJGQZclCi",
        "outputId": "72908eb5-34b6-445a-af05-22170e482102"
      },
      "outputs": [
        {
          "name": "stdout",
          "output_type": "stream",
          "text": [
            "Model: \"decoder\"\n",
            "_________________________________________________________________\n",
            " Layer (type)                Output Shape              Param #   \n",
            "=================================================================\n",
            " decoder_input (InputLayer)  [(None, 32)]              0         \n",
            "                                                                 \n",
            " dense_2 (Dense)             (None, 262144)            8650752   \n",
            "                                                                 \n",
            " reshape (Reshape)           (None, 64, 64, 64)        0         \n",
            "                                                                 \n",
            " conv2d_transpose (Conv2DTr  (None, 64, 64, 64)        36928     \n",
            " anspose)                                                        \n",
            "                                                                 \n",
            " conv2d_transpose_1 (Conv2D  (None, 64, 64, 32)        18464     \n",
            " Transpose)                                                      \n",
            "                                                                 \n",
            " decoder_output (Conv2DTran  (None, 64, 64, 3)         867       \n",
            " spose)                                                          \n",
            "                                                                 \n",
            "=================================================================\n",
            "Total params: 8707011 (33.21 MB)\n",
            "Trainable params: 8707011 (33.21 MB)\n",
            "Non-trainable params: 0 (0.00 Byte)\n",
            "_________________________________________________________________\n"
          ]
        }
      ],
      "source": [
        "# Decoder\n",
        "decoder_input = Input(shape = (latent_dim, ), name = 'decoder_input')\n",
        "x = Dense(convolution_shape[1] * convolution_shape[2] * convolution_shape[3], activation = 'relu')(decoder_input)\n",
        "\n",
        "# reshaping to the last convolution layer of encoder, so that we can upsacle to the original shape\n",
        "x = Reshape((convolution_shape[1], convolution_shape[2], convolution_shape[3]))(x)\n",
        "\n",
        "# Conv2DTranspose to perform the reverse of convolution layers from encoder\n",
        "x = Conv2DTranspose(64, kernel_size = 3, padding = 'same', activation = 'relu')(x)\n",
        "\n",
        "#Added to check\n",
        "x = Conv2DTranspose(32, kernel_size = 3, padding = 'same', activation = 'relu')(x)\n",
        "\n",
        "# another Conv2DTranspose just for fun, but with sigmoid activation\n",
        "x = Conv2DTranspose(3, kernel_size = 3, padding = 'same', activation = 'sigmoid', name = 'decoder_output')(x)\n",
        "\n",
        "# create the decoder model\n",
        "decoder_model = Model(decoder_input, x, name = 'decoder')\n",
        "\n",
        "decoder_model.summary()\n"
      ]
    },
    {
      "cell_type": "code",
      "execution_count": 15,
      "metadata": {
        "id": "k89ZeJV7g6Ji"
      },
      "outputs": [
        {
          "name": "stdout",
          "output_type": "stream",
          "text": [
            "(None, 64, 64, 3)\n"
          ]
        }
      ],
      "source": [
        "z_decoded = decoder_model(z)\n",
        "print(z_decoded.shape)"
      ]
    },
    {
      "cell_type": "code",
      "execution_count": 16,
      "metadata": {
        "id": "noTgXHRLhCLP"
      },
      "outputs": [
        {
          "name": "stdout",
          "output_type": "stream",
          "text": [
            "KerasTensor(type_spec=TensorSpec(shape=(None, 64, 64, 3), dtype=tf.float32, name=None), name='Placeholder:0', description=\"created by layer 'custom_layer'\")\n"
          ]
        }
      ],
      "source": [
        "# # Custom Loss for VAE, combination of Reconstruction loss and KL divergence\n",
        "# class CustomLayer(keras.layers.Layer):\n",
        "\n",
        "#     def vae_loss(self, x, z_decoded):\n",
        "#         x = tf.keras.backend.flatten(x)\n",
        "#         z_decoded = tf.keras.backend.flatten(z_decoded)\n",
        "\n",
        "#         # Reconstruction loss since we're using sigmoid in the last layer we can use binary-crossentropy\n",
        "#         recon_loss = tf.keras.metrics.binary_crossentropy(x, z_decoded)\n",
        "\n",
        "#         # KL divergence\n",
        "#         kl_loss = -5e-4 * tf.keras.backend.mean(1 + z_decoded - tf.square(z_mean) - tf.exp(z_log_var), axis = -1)\n",
        "#         return K.mean(recon_loss + kl_loss)\n",
        "\n",
        "#     def call(self, inputs):\n",
        "#         x = inputs[0]\n",
        "#         z_decoded = inputs[1]\n",
        "#         loss = self.vae_loss(x, z_decoded)\n",
        "#         self.add_loss(loss, inputs = inputs)\n",
        "#         return x\n",
        "\n",
        "# # apply the custom loss to the input images and the decoded latent distribution sample\n",
        "# y = CustomLayer()([encoder_input, z_decoded])\n",
        "\n",
        "# print(y)\n",
        "\n",
        "############################### New code below with slight changes for Custom loss as the above code was throwing TypeError, keeping old code for reference - Rashi #########################\n",
        "class CustomLayer(tf.keras.layers.Layer):\n",
        "\n",
        "    def vae_loss(self, x, z_decoded, z_mean, z_log_var):\n",
        "        x = tf.keras.backend.flatten(x)\n",
        "        z_decoded = tf.keras.backend.flatten(z_decoded)\n",
        "\n",
        "        # Reconstruction loss using binary_crossentropy\n",
        "        recon_loss = binary_crossentropy(x, z_decoded)\n",
        "\n",
        "        # KL divergence\n",
        "        kl_loss = -5e-4 * tf.keras.backend.mean(1 + z_log_var - tf.square(z_mean) - tf.exp(z_log_var), axis=-1)\n",
        "\n",
        "        return K.mean(recon_loss + kl_loss)\n",
        "\n",
        "    def call(self, inputs):\n",
        "        x = inputs[0]\n",
        "        z_decoded = inputs[1]\n",
        "        z_mean = inputs[2]  # Assuming z_mean is the third input\n",
        "        z_log_var = inputs[3]  # Assuming z_log_var is the fourth input\n",
        "\n",
        "        loss = self.vae_loss(x, z_decoded, z_mean, z_log_var)\n",
        "        self.add_loss(loss, inputs=inputs)\n",
        "        return x\n",
        "\n",
        "# Assuming encoder_input, z_decoded, z_mean, and z_log_var are your tensors\n",
        "y = CustomLayer()([encoder_input, z_decoded, z_mean, z_log_var])\n",
        "\n",
        "print(y)\n"
      ]
    },
    {
      "cell_type": "code",
      "execution_count": 17,
      "metadata": {
        "colab": {
          "base_uri": "https://localhost:8080/"
        },
        "id": "jO_cSNGviooS",
        "outputId": "6356621d-33bb-43c0-f67f-eef90270444f"
      },
      "outputs": [
        {
          "name": "stdout",
          "output_type": "stream",
          "text": [
            "Model: \"model\"\n",
            "__________________________________________________________________________________________________\n",
            " Layer (type)                Output Shape                 Param #   Connected to                  \n",
            "==================================================================================================\n",
            " encoder_input (InputLayer)  [(None, 64, 64, 3)]          0         []                            \n",
            "                                                                                                  \n",
            " conv2d (Conv2D)             (None, 64, 64, 32)           896       ['encoder_input[0][0]']       \n",
            "                                                                                                  \n",
            " conv2d_1 (Conv2D)           (None, 64, 64, 64)           18496     ['conv2d[0][0]']              \n",
            "                                                                                                  \n",
            " flatten (Flatten)           (None, 262144)               0         ['conv2d_1[0][0]']            \n",
            "                                                                                                  \n",
            " dropout (Dropout)           (None, 262144)               0         ['flatten[0][0]']             \n",
            "                                                                                                  \n",
            " dense (Dense)               (None, 32)                   8388640   ['dropout[0][0]']             \n",
            "                                                                                                  \n",
            " dense_1 (Dense)             (None, 32)                   8388640   ['dropout[0][0]']             \n",
            "                                                                                                  \n",
            " sampling_layer (SamplingLa  (None, 32)                   0         ['dense[0][0]',               \n",
            " yer)                                                                'dense_1[0][0]']             \n",
            "                                                                                                  \n",
            " decoder (Functional)        (None, 64, 64, 3)            8707011   ['sampling_layer[0][0]']      \n",
            "                                                                                                  \n",
            " custom_layer (CustomLayer)  (None, 64, 64, 3)            0         ['encoder_input[0][0]',       \n",
            "                                                                     'decoder[0][0]',             \n",
            "                                                                     'dense[0][0]',               \n",
            "                                                                     'dense_1[0][0]']             \n",
            "                                                                                                  \n",
            "==================================================================================================\n",
            "Total params: 25503683 (97.29 MB)\n",
            "Trainable params: 25503683 (97.29 MB)\n",
            "Non-trainable params: 0 (0.00 Byte)\n",
            "__________________________________________________________________________________________________\n"
          ]
        }
      ],
      "source": [
        "vae = Model(encoder_input, y)\n",
        "vae.compile(optimizer = 'adam')\n",
        "vae.summary()"
      ]
    },
    {
      "cell_type": "code",
      "execution_count": null,
      "metadata": {
        "colab": {
          "base_uri": "https://localhost:8080/",
          "height": 738
        },
        "id": "ESuHaZIRi8lT",
        "outputId": "23bce000-e726-4a11-c4c8-8b105e4deba2"
      },
      "outputs": [],
      "source": [
        "vae.fit(training_data, None, epochs = 5, batch_size = 32, validation_data = (validation_data, None))"
      ]
    },
    {
      "cell_type": "code",
      "execution_count": 38,
      "metadata": {},
      "outputs": [
        {
          "name": "stdout",
          "output_type": "stream",
          "text": [
            "  1/624 [..............................] - ETA: 1:15"
          ]
        },
        {
          "name": "stderr",
          "output_type": "stream",
          "text": [
            "/Library/Frameworks/Python.framework/Versions/3.10/lib/python3.10/site-packages/tensorflow/python/data/ops/structured_function.py:258: UserWarning: Even though the `tf.config.experimental_run_functions_eagerly` option is set, this option does not apply to tf.data functions. To force eager execution of tf.data functions, please use `tf.data.experimental.enable_debug_mode()`.\n",
            "  warnings.warn(\n"
          ]
        },
        {
          "name": "stdout",
          "output_type": "stream",
          "text": [
            "624/624 [==============================] - 18s 29ms/step\n",
            "624/624 [==============================] - 53s 85ms/step\n"
          ]
        },
        {
          "data": {
            "image/png": "[encoded data removed]",
            "text/plain": [
              "<Figure size 640x480 with 1 Axes>"
            ]
          },
          "metadata": {},
          "output_type": "display_data"
        }
      ],
      "source": [
        "def sample_latent_space(z_mean, z_log_var):\n",
        "    batch, latent_dim = z_mean.shape\n",
        "    epsilon = np.random.normal(size=(batch, latent_dim))\n",
        "    return z_mean + np.exp(0.5 * z_log_var) * epsilon\n",
        "\n",
        "def get_z_mean_z_log_var(input_image):\n",
        "    z_mean, z_log_var, _ = encoder_model.predict(input_image)\n",
        "    return z_mean, z_log_var\n",
        "\n",
        "\n",
        "z_mean_value, z_log_var_value = get_z_mean_z_log_var(test_data)\n",
        "\n",
        "latent_vector = sample_latent_space(z_mean_value, z_log_var_value)\n",
        "\n",
        "generated_image = decoder_model.predict(latent_vector)\n",
        "\n",
        "plt.imshow(generated_image[0])\n",
        "plt.show()"
      ]
    },
    {
      "cell_type": "code",
      "execution_count": 18,
      "metadata": {},
      "outputs": [],
      "source": [
        "# Discriminator model\n",
        "discriminator_input = Input(shape=(latent_dim,), name='discriminator_input')\n",
        "x = Dense(64, activation = 'relu')(discriminator_input)\n",
        "x = Dense(32, activation='relu')(x)\n",
        "discriminator_output = Dense(1, activation='sigmoid', name='discriminator_output')(x)\n",
        "\n",
        "discriminator_model = Model(discriminator_input, discriminator_output, name='discriminator_model')"
      ]
    },
    {
      "cell_type": "code",
      "execution_count": 19,
      "metadata": {},
      "outputs": [
        {
          "name": "stdout",
          "output_type": "stream",
          "text": [
            "Model: \"discriminator_model\"\n",
            "_________________________________________________________________\n",
            " Layer (type)                Output Shape              Param #   \n",
            "=================================================================\n",
            " discriminator_input (Input  [(None, 32)]              0         \n",
            " Layer)                                                          \n",
            "                                                                 \n",
            " dense_3 (Dense)             (None, 64)                2112      \n",
            "                                                                 \n",
            " dense_4 (Dense)             (None, 32)                2080      \n",
            "                                                                 \n",
            " discriminator_output (Dens  (None, 1)                 33        \n",
            " e)                                                              \n",
            "                                                                 \n",
            "=================================================================\n",
            "Total params: 4225 (16.50 KB)\n",
            "Trainable params: 4225 (16.50 KB)\n",
            "Non-trainable params: 0 (0.00 Byte)\n",
            "_________________________________________________________________\n"
          ]
        }
      ],
      "source": [
        "discriminator_model.compile(optimizer='adam',loss='binary_crossentropy', metrics=['accuracy'])\n",
        "discriminator_model.summary()"
      ]
    },
    {
      "cell_type": "code",
      "execution_count": 20,
      "metadata": {},
      "outputs": [
        {
          "name": "stdout",
          "output_type": "stream",
          "text": [
            "Model: \"model_1\"\n",
            "__________________________________________________________________________________________________\n",
            " Layer (type)                Output Shape                 Param #   Connected to                  \n",
            "==================================================================================================\n",
            " encoder_input (InputLayer)  [(None, 64, 64, 3)]          0         []                            \n",
            "                                                                                                  \n",
            " encoder_model (Functional)  [(None, 32),                 2518531   ['encoder_input[0][0]']       \n",
            "                              (None, 32),                 2                                       \n",
            "                              (None, 32)]                                                         \n",
            "                                                                                                  \n",
            " model (Functional)          (None, 64, 64, 3)            2550368   ['encoder_input[0][0]']       \n",
            "                                                          3                                       \n",
            "                                                                                                  \n",
            " discriminator_model (Funct  (None, 1)                    4225      ['encoder_model[0][0]',       \n",
            " ional)                                                              'encoder_model[0][1]',       \n",
            "                                                                     'encoder_model[0][2]']       \n",
            "                                                                                                  \n",
            "==================================================================================================\n",
            "Total params: 33896548 (129.31 MB)\n",
            "Trainable params: 33896548 (129.31 MB)\n",
            "Non-trainable params: 0 (0.00 Byte)\n",
            "__________________________________________________________________________________________________\n"
          ]
        }
      ],
      "source": [
        "aae_output = discriminator_model(encoder_model(encoder_input))\n",
        "aae = Model(inputs=encoder_input, outputs=[vae(encoder_input), aae_output])\n",
        "aae.compile(optimizer='adam', loss={'vae': 'CustomLayer()', 'discriminator_model': binary_crossentropy})\n",
        "aae.summary()"
      ]
    },
    {
      "cell_type": "code",
      "execution_count": null,
      "metadata": {},
      "outputs": [],
      "source": [
        "batch_size = 32\n",
        "\n",
        "real_labels = np.ones((len(training_data)))\n",
        "print(training_data.shape)\n",
        "print(real_labels.shape)"
      ]
    },
    {
      "cell_type": "code",
      "execution_count": 35,
      "metadata": {},
      "outputs": [
        {
          "name": "stderr",
          "output_type": "stream",
          "text": [
            "/Library/Frameworks/Python.framework/Versions/3.10/lib/python3.10/site-packages/tensorflow/python/data/ops/structured_function.py:258: UserWarning: Even though the `tf.config.experimental_run_functions_eagerly` option is set, this option does not apply to tf.data functions. To force eager execution of tf.data functions, please use `tf.data.experimental.enable_debug_mode()`.\n",
            "  warnings.warn(\n"
          ]
        },
        {
          "name": "stdout",
          "output_type": "stream",
          "text": [
            "5087/5087 [==============================] - 125s 25ms/step\n"
          ]
        }
      ],
      "source": [
        "batchpred = encoder_model.predict(training_data)"
      ]
    },
    {
      "cell_type": "code",
      "execution_count": 37,
      "metadata": {},
      "outputs": [
        {
          "name": "stdout",
          "output_type": "stream",
          "text": [
            "(162770, 64, 64, 3)\n",
            "(3, 162770, 32)\n"
          ]
        }
      ],
      "source": [
        "print(training_data.shape)\n",
        "batchpred_reshaped = np.array(batchpred)\n",
        "# batchpred_reshaped = batchpred.reshape((-1, latent_dim))\n",
        "print(batchpred_reshaped.shape)"
      ]
    },
    {
      "cell_type": "code",
      "execution_count": 31,
      "metadata": {},
      "outputs": [
        {
          "name": "stdout",
          "output_type": "stream",
          "text": [
            "(32, 1)\n",
            "(32, 1)\n"
          ]
        }
      ],
      "source": [
        "real_labels = np.ones((batch_size, 1))\n",
        "fake_labels = np.zeros((batch_size, 1))\n",
        "\n",
        "print(fake_labels.shape)\n",
        "print(real_labels.shape)"
      ]
    },
    {
      "cell_type": "code",
      "execution_count": null,
      "metadata": {},
      "outputs": [],
      "source": [
        "discbatch_x = np.concatenate([batchpred, fake_labels], axis=0)\n",
        "print(discbatch_x.shape)"
      ]
    },
    {
      "cell_type": "code",
      "execution_count": 21,
      "metadata": {},
      "outputs": [
        {
          "name": "stdout",
          "output_type": "stream",
          "text": [
            "Starting training\n"
          ]
        },
        {
          "name": "stderr",
          "output_type": "stream",
          "text": [
            "/Library/Frameworks/Python.framework/Versions/3.10/lib/python3.10/site-packages/tensorflow/python/data/ops/structured_function.py:258: UserWarning: Even though the `tf.config.experimental_run_functions_eagerly` option is set, this option does not apply to tf.data functions. To force eager execution of tf.data functions, please use `tf.data.experimental.enable_debug_mode()`.\n",
            "  warnings.warn(\n"
          ]
        },
        {
          "name": "stdout",
          "output_type": "stream",
          "text": [
            "5087/5087 [==============================] - 1722s 338ms/step - loss: 0.5189\n",
            "completed training\n",
            "5087/5087 [==============================] - 126s 25ms/step\n",
            "Prediction using encoder model completed\n"
          ]
        },
        {
          "ename": "ValueError",
          "evalue": "all the input array dimensions except for the concatenation axis must match exactly, but along dimension 1, the array at index 0 has size 162770 and the array at index 1 has size 1",
          "output_type": "error",
          "traceback": [
            "\u001b[0;31m---------------------------------------------------------------------------\u001b[0m",
            "\u001b[0;31mValueError\u001b[0m                                Traceback (most recent call last)",
            "\u001b[1;32m/Users/rashitiwary/Documents/George Washington University/Masters Subject/CSCI  6366 Neural network/Semester Project/Git Project folder/Neural_Project_AA_RS_RT/Neural_Project_AAE.ipynb Cell 44\u001b[0m line \u001b[0;36m3\n\u001b[1;32m     <a href='vscode-notebook-cell:/Users/rashitiwary/Documents/George%20Washington%20University/Masters%20Subject/CSCI%20%206366%20Neural%20network/Semester%20Project/Git%20Project%20folder/Neural_Project_AA_RS_RT/Neural_Project_AAE.ipynb#X51sZmlsZQ%3D%3D?line=33'>34</a>\u001b[0m \u001b[39m# fake_labels = np.zeros((batchpred.shape[0],len(training_data), latent_dim))\u001b[39;00m\n\u001b[1;32m     <a href='vscode-notebook-cell:/Users/rashitiwary/Documents/George%20Washington%20University/Masters%20Subject/CSCI%20%206366%20Neural%20network/Semester%20Project/Git%20Project%20folder/Neural_Project_AA_RS_RT/Neural_Project_AAE.ipynb#X51sZmlsZQ%3D%3D?line=34'>35</a>\u001b[0m \u001b[39m# fake_labels = fake_labels.reshape((1, fake_labels.shape[0], fake_labels.shape[1]))\u001b[39;00m\n\u001b[1;32m     <a href='vscode-notebook-cell:/Users/rashitiwary/Documents/George%20Washington%20University/Masters%20Subject/CSCI%20%206366%20Neural%20network/Semester%20Project/Git%20Project%20folder/Neural_Project_AA_RS_RT/Neural_Project_AAE.ipynb#X51sZmlsZQ%3D%3D?line=36'>37</a>\u001b[0m \u001b[39mprint\u001b[39m(\u001b[39m\"\u001b[39m\u001b[39mPrediction using encoder model completed\u001b[39m\u001b[39m\"\u001b[39m)\n\u001b[0;32m---> <a href='vscode-notebook-cell:/Users/rashitiwary/Documents/George%20Washington%20University/Masters%20Subject/CSCI%20%206366%20Neural%20network/Semester%20Project/Git%20Project%20folder/Neural_Project_AA_RS_RT/Neural_Project_AAE.ipynb#X51sZmlsZQ%3D%3D?line=38'>39</a>\u001b[0m discbatch_x \u001b[39m=\u001b[39m np\u001b[39m.\u001b[39;49mconcatenate([batchpred, fake_labels])\n\u001b[1;32m     <a href='vscode-notebook-cell:/Users/rashitiwary/Documents/George%20Washington%20University/Masters%20Subject/CSCI%20%206366%20Neural%20network/Semester%20Project/Git%20Project%20folder/Neural_Project_AA_RS_RT/Neural_Project_AAE.ipynb#X51sZmlsZQ%3D%3D?line=39'>40</a>\u001b[0m discbatch_y \u001b[39m=\u001b[39m np\u001b[39m.\u001b[39mconcatenate([np\u001b[39m.\u001b[39mzeros(batch_size), np\u001b[39m.\u001b[39mones(batch_size)])\n\u001b[1;32m     <a href='vscode-notebook-cell:/Users/rashitiwary/Documents/George%20Washington%20University/Masters%20Subject/CSCI%20%206366%20Neural%20network/Semester%20Project/Git%20Project%20folder/Neural_Project_AA_RS_RT/Neural_Project_AAE.ipynb#X51sZmlsZQ%3D%3D?line=41'>42</a>\u001b[0m d_loss \u001b[39m=\u001b[39m discriminator_model\u001b[39m.\u001b[39mfit(batchpred,fake_labels,epochs\u001b[39m=\u001b[39m\u001b[39m1\u001b[39m)\n",
            "File \u001b[0;32m<__array_function__ internals>:200\u001b[0m, in \u001b[0;36mconcatenate\u001b[0;34m(*args, **kwargs)\u001b[0m\n",
            "\u001b[0;31mValueError\u001b[0m: all the input array dimensions except for the concatenation axis must match exactly, but along dimension 1, the array at index 0 has size 162770 and the array at index 1 has size 1"
          ]
        }
      ],
      "source": [
        "epochs = 10\n",
        "batch_size =32 \n",
        "tf.config.run_functions_eagerly(True)\n",
        "\n",
        "# valid = np.ones((batch_size, 1))\n",
        "# fake = np.zeros((batch_size, 1))\n",
        "\n",
        "for epoch in range(epochs):\n",
        "\n",
        "    print(\"Starting training\")\n",
        "\n",
        "    encoder_model.trainable = True\n",
        "    decoder_model.trainable = True\n",
        "    vae.trainable = True\n",
        "\n",
        "    # vae_prediction = vae.fit(training_data,training_data,epochs=1)\n",
        "    # vae_prediction = np.asarray(vae_prediction)\n",
        "    discriminator_model.trainable = True\n",
        "\n",
        "    print(\"completed training\")\n",
        "\n",
        "    try:\n",
        "        batchpred = encoder_model.predict(training_data)  #----> this is numpy array\n",
        "    except Exception as e:\n",
        "        print(\"Error during prediction:\", e)\n",
        "        print(\"Training data shape:\", training_data.shape)\n",
        "        print(\"Encoder model input shape:\", encoder_model.input_shape)\n",
        "        \n",
        "    batchpred = np.array(batchpred)    \n",
        "\n",
        "\n",
        "    # batchpred_flattened = batchpred.reshape((-1, batchpred.shape[-1]))\n",
        "\n",
        "    # Creating Fake Labels for Discriminator\n",
        "    # fake_labels = np.zeros((batchpred_flattened.shape[0], latent_dim))\n",
        "    # fake_labels = np.zeros((batchpred.shape[0],len(training_data), latent_dim))\n",
        "    # fake_labels = fake_labels.reshape((1, fake_labels.shape[0], fake_labels.shape[1]))\n",
        "\n",
        "    print(\"Prediction using encoder model completed\")\n",
        "    \n",
        "    # discbatch_x = np.concatenate([batchpred, fake_labels])\n",
        "    # discbatch_y = np.concatenate([np.zeros(batch_size), np.ones(batch_size)])\n",
        "\n",
        "    d_loss = discriminator_model.fit(batchpred,fake_labels,epochs=1)\n",
        "\n",
        "    print(\"Completed discriminator prediction\")\n",
        "\n",
        "    aae.trainable= True\n",
        "    encoder_model.trainable = True\n",
        "    discriminator_model.trainable = False\n",
        "\n",
        "    aae_loss = aae.fit(training_data, np.ones((batch_size)), epochs =1)\n",
        "\n",
        "    print(\"Completed training AAE\")\n",
        "\n",
        "    # noise = np.random.normal(0, 1, (batch_size, latent_dim))\n",
        "\n",
        "    # # Generate fake data using the decoder\n",
        "    # generated_data = decoder_model.predict(noise)\n",
        "\n",
        "    # # Train the discriminator\n",
        "    # d_loss_real = discriminator_model.train_on_batch(training_data, np.ones((batch_size, 1)))\n",
        "    # d_loss_fake = discriminator_model.train_on_batch(generated_data, np.zeros((batch_size, 1)))\n",
        "    # d_loss = 0.5 * np.add(d_loss_real, d_loss_fake)\n",
        "\n",
        "    # # Train the autoencoder\n",
        "    # ae_loss = aae.train_on_batch(training_data, training_data)\n",
        "\n",
        "    # # Train the adversarial network\n",
        "    # g_loss = aae.train_on_batch(training_data, [training_data, np.ones((batch_size, 1))])\n",
        "\n",
        "    # Print progress\n",
        "    print(f\"Epoch {epoch + 1}/{epochs} [D loss: {d_loss[0]} | D accuracy: {100 * d_loss[1]}] [AE loss: {aae_loss}] [G loss: {aae_loss[0]}]\")\n",
        "\n",
        "\n",
        "    # print(\"Starting vae loss\")\n",
        "    # # Train the VAE\n",
        "    # vae_loss=vae.fit(training_data, None, epochs = 1, batch_size = 32)\n",
        "\n",
        "    # print(\"Starting generated_samples\")\n",
        "    # # Generate fake samples using the VAE\n",
        "    # # generated_samples = vae.predict(training_data)\n",
        "\n",
        "    # # Create labels for real and generated samples\n",
        "    # print(\"Starting real and fake labels\")\n",
        "    # real_labels = np.ones((len(training_data), 1))\n",
        "    # fake_labels = np.zeros((len(training_data), 1))\n",
        "\n",
        "    # print(real_labels.shape)\n",
        "    # print(fake_labels.shape)\n",
        "    # # print(generated_samples.shape)\n",
        "\n",
        "    # print(\"Starting discriminator loss\")\n",
        "    # # Train the discriminator with real and generated samples\n",
        "    # # discriminator_loss = discriminator_model.fit(generated_samples,fake_labels)\n",
        "\n",
        "    # # noise = np.random.normal(0, 1, (batch_size, latent_dim))\n",
        "    # # discbatch_y = np.concatenate([np.zeros(batch_size), np.ones(batch_size)])\n",
        "    # # d_loss_real = discriminator_model.train_on_batch(encoder_model.predict(training_data), real_labels)\n",
        "    # d_loss_real = discriminator_model.train_on_batch(vae.predict(training_data), real_labels)\n",
        "    # # d_loss_fake = discriminator_model.train_on_batch(noise, fake_labels)\n",
        "    # # d_loss = 0.5 * np.add(d_loss_real, d_loss_fake)\n",
        "\n",
        "    # # Train the adversarial_autoencoder\n",
        "    # g_loss = aae.train_on_batch(training_data, {'vae': real_labels, 'discriminator_model': real_labels})\n",
        "\n",
        "    # # Print or log the losses for monitoring\n",
        "    # # print(f'Epoch {epoch + 1}/{epochs}, VAE Loss: {vae_loss[\"vae\"]}, Discriminator Loss: {discriminator_loss}')\n",
        "\n",
        "    # print(\"%d [D loss: %f, acc.: %.2f%%] [G loss: %f, mse: %f]\" % (epoch, g_loss[0], g_loss[1]))"
      ]
    }
  ],
  "metadata": {
    "accelerator": "GPU",
    "colab": {
      "provenance": []
    },
    "kernelspec": {
      "display_name": "Python 3",
      "name": "python3"
    },
    "language_info": {
      "codemirror_mode": {
        "name": "ipython",
        "version": 3
      },
      "file_extension": ".py",
      "mimetype": "text/x-python",
      "name": "python",
      "nbconvert_exporter": "python",
      "pygments_lexer": "ipython3",
      "version": "3.10.10"
    }
  },
  "nbformat": 4,
  "nbformat_minor": 0
}
